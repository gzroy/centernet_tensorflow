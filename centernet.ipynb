{
 "cells": [
  {
   "cell_type": "code",
   "execution_count": null,
   "metadata": {},
   "outputs": [],
   "source": [
    "import tensorflow as tf\n",
    "\n",
    "imageHeight = 512\n",
    "imageWidth = 512"
   ]
  },
  {
   "cell_type": "code",
   "execution_count": null,
   "metadata": {},
   "outputs": [],
   "source": [
    "l = tf.keras.layers\n",
    "def _conv(inputs, filters, kernel_size, strides, padding, bias=False, normalize=True, activation='relu'):\n",
    "    output = inputs\n",
    "    padding_str = 'same'\n",
    "    if padding>0:\n",
    "        output = l.ZeroPadding2D(padding=padding)(output)\n",
    "        padding_str = 'valid'\n",
    "    output = l.Conv2D(filters, kernel_size, strides, padding_str, use_bias=bias, \\\n",
    "                 kernel_initializer='he_normal', \\\n",
    "                 kernel_regularizer=tf.keras.regularizers.l2(l=5e-4))(output)\n",
    "    if normalize:\n",
    "        output = l.BatchNormalization(axis=3)(output)\n",
    "    if activation=='relu':\n",
    "        output = l.ReLU()(output)\n",
    "    if activation=='relu6':\n",
    "        output = l.ReLU(max_value=6)(output)\n",
    "    if activation=='leaky_relu':\n",
    "        output = l.LeakyReLU(alpha=0.1)(output)\n",
    "    return output\n",
    "\n",
    "def _residual(inputs, filters, strides):\n",
    "    shortcut = inputs\n",
    "    num_channels = shortcut.get_shape().as_list()[-1]\n",
    "    output = _conv(inputs, filters, 3, 2, 1)\n",
    "    output = _conv(output, filters, 3, 1, 0, False, True, 'linear')\n",
    "    if num_channels != filters or strides != 1:\n",
    "        shortcut = _conv(shortcut, filters, 1, strides, 0, False, Ture, 'linear')\n",
    "    output = l.Add()([output, shortcut])\n",
    "    output = l.ReLU()(output)\n",
    "    return output\n",
    "\n",
    "def HourglassNetwork():\n",
    "    image = tf.keras.Input(shape=(imageHeight,imageWidth,3))   #512×512×3\n",
    "    net = _conv(image, 128, 7, 2, 3)    #256×256×128\n",
    "    net = _residual(net, 256, 2)        #128×128×256\n",
    "    net = _hourglass(net)\n",
    "    "
   ]
  }
 ],
 "metadata": {
  "kernelspec": {
   "display_name": "Python 3",
   "language": "python",
   "name": "python3"
  },
  "language_info": {
   "codemirror_mode": {
    "name": "ipython",
    "version": 3
   },
   "file_extension": ".py",
   "mimetype": "text/x-python",
   "name": "python",
   "nbconvert_exporter": "python",
   "pygments_lexer": "ipython3",
   "version": "3.7.3"
  }
 },
 "nbformat": 4,
 "nbformat_minor": 2
}
